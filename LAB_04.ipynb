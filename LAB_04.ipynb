{
  "nbformat": 4,
  "nbformat_minor": 0,
  "metadata": {
    "colab": {
      "provenance": [],
      "authorship_tag": "ABX9TyM3YEKntLkKdIH6MUwLXzSz",
      "include_colab_link": true
    },
    "kernelspec": {
      "name": "python3",
      "display_name": "Python 3"
    },
    "language_info": {
      "name": "python"
    }
  },
  "cells": [
    {
      "cell_type": "markdown",
      "metadata": {
        "id": "view-in-github",
        "colab_type": "text"
      },
      "source": [
        "<a href=\"https://colab.research.google.com/github/2303A51593/PDS_B10_1593/blob/main/LAB_04.ipynb\" target=\"_parent\"><img src=\"https://colab.research.google.com/assets/colab-badge.svg\" alt=\"Open In Colab\"/></a>"
      ]
    },
    {
      "cell_type": "code",
      "execution_count": 1,
      "metadata": {
        "colab": {
          "base_uri": "https://localhost:8080/"
        },
        "id": "Xwouvfjw4qBK",
        "outputId": "18403838-c73d-4d38-dfef-bfdc9d586b7e"
      },
      "outputs": [
        {
          "output_type": "stream",
          "name": "stdout",
          "text": [
            "Original DataFrame:\n",
            "  Student  Math  Science  English\n",
            "0    Amit  85.0     88.0     90.0\n",
            "1    Neha  70.0      NaN     72.0\n",
            "2    Ravi   NaN     65.0     60.0\n",
            "3   Sneha  90.0     92.0      NaN\n",
            "4   Arjun  40.0     55.0     50.0\n",
            "5   Priya  78.0     80.0     85.0\n",
            "\n",
            "DataFrame after filling missing values:\n",
            "  Student  Math  Science  English\n",
            "0    Amit  85.0     88.0     90.0\n",
            "1    Neha  70.0     76.0     72.0\n",
            "2    Ravi  72.6     65.0     60.0\n",
            "3   Sneha  90.0     92.0     71.4\n",
            "4   Arjun  40.0     55.0     50.0\n",
            "5   Priya  78.0     80.0     85.0\n",
            "\n",
            "High Achievers (scores > 75 in all subjects):\n",
            "  Student  Math  Science  English\n",
            "0    Amit  85.0     88.0     90.0\n",
            "5   Priya  78.0     80.0     85.0\n"
          ]
        }
      ],
      "source": [
        "import pandas as pd\n",
        "df = pd.read_csv('student_scores.csv')\n",
        "print(\"Original DataFrame:\")\n",
        "print(df)\n",
        "numeric_cols = df.select_dtypes(include=['number'])\n",
        "df.fillna(numeric_cols.mean(), inplace=True)\n",
        "print(\"\\nDataFrame after filling missing values:\")\n",
        "print(df)\n",
        "high_achievers = df[(df['Math'] > 75) & (df['Science'] > 75) & (df['English'] > 75)]\n",
        "print(\"\\nHigh Achievers (scores > 75 in all subjects):\")\n",
        "print(high_achievers)"
      ]
    }
  ]
}